{
 "cells": [
  {
   "cell_type": "markdown",
   "id": "23384bb8-9ba6-42ee-89cf-71fd34022f7e",
   "metadata": {},
   "source": [
    "## 1. Data Preprocessing"
   ]
  },
  {
   "cell_type": "markdown",
   "id": "deb7739e-fd29-4377-882a-7a1755195ab2",
   "metadata": {},
   "source": [
    "### 1.1. Load raw data and split source and target"
   ]
  },
  {
   "cell_type": "code",
   "execution_count": 1,
   "id": "b46391cd-159c-4fe5-9ca0-80cdf0ca0871",
   "metadata": {
    "execution": {
     "iopub.execute_input": "2022-05-04T21:29:37.622576Z",
     "iopub.status.busy": "2022-05-04T21:29:37.620938Z",
     "iopub.status.idle": "2022-05-04T21:29:37.931232Z",
     "shell.execute_reply": "2022-05-04T21:29:37.930613Z",
     "shell.execute_reply.started": "2022-05-04T21:29:37.622441Z"
    },
    "tags": []
   },
   "outputs": [],
   "source": [
    "# Load raw data\n",
    "data_path = \"/datasets/english_french_dataset/fra.txt\"\n",
    "data = open(data_path, \"r\", encoding='utf-8')\n",
    "\n",
    "# Load data\n",
    "source = []\n",
    "target = []\n",
    "\n",
    "for line in data:\n",
    "    # Discard empty lines if any\n",
    "    if line:\n",
    "        l = line.split(\"\\t\")\n",
    "        source.append(l[0])\n",
    "        target.append(l[1])\n",
    "\n",
    "# Close file\n",
    "data.close()"
   ]
  },
  {
   "cell_type": "markdown",
   "id": "f660bfa3-d433-40f4-b409-3f852ac900da",
   "metadata": {},
   "source": [
    "### 1.2. Remove source duplicates and reduce dataset size"
   ]
  },
  {
   "cell_type": "code",
   "execution_count": 2,
   "id": "c0ab875f-5c65-4672-b919-1919595af2d2",
   "metadata": {
    "execution": {
     "iopub.execute_input": "2022-05-04T21:30:18.389013Z",
     "iopub.status.busy": "2022-05-04T21:30:18.388306Z",
     "iopub.status.idle": "2022-05-04T21:30:18.458319Z",
     "shell.execute_reply": "2022-05-04T21:30:18.457792Z",
     "shell.execute_reply.started": "2022-05-04T21:30:18.388986Z"
    },
    "tags": []
   },
   "outputs": [],
   "source": [
    "def remove_duplicates(source, target):\n",
    "    new_source = [source[0]]\n",
    "    new_target = [target[0]]\n",
    "    for i in range(1, len(source)):\n",
    "        if source[i] != source[i-1]:\n",
    "            new_source.append(source[i])\n",
    "            new_target.append(target[i])\n",
    "            \n",
    "    return new_source, new_target\n",
    "\n",
    "source, target = remove_duplicates(source, target)\n",
    "source = source[:100000]\n",
    "target = target[:100000]"
   ]
  },
  {
   "cell_type": "markdown",
   "id": "06301ba8-36f5-42e7-a615-a5d9f5adbda9",
   "metadata": {},
   "source": [
    "### 1.3. Clean the data"
   ]
  },
  {
   "cell_type": "code",
   "execution_count": 3,
   "id": "5b03ba2f-70e3-4024-9754-54b555616713",
   "metadata": {
    "execution": {
     "iopub.execute_input": "2022-05-04T21:30:19.727628Z",
     "iopub.status.busy": "2022-05-04T21:30:19.727087Z",
     "iopub.status.idle": "2022-05-04T21:30:19.732855Z",
     "shell.execute_reply": "2022-05-04T21:30:19.732141Z",
     "shell.execute_reply.started": "2022-05-04T21:30:19.727597Z"
    },
    "tags": []
   },
   "outputs": [],
   "source": [
    "def clean_and_split(sentence):\n",
    "    # We add spaces between words and punctuation\n",
    "    new_sentence = sentence[0]\n",
    "    for i, char in enumerate(sentence):\n",
    "        if i > 0:\n",
    "            if char in set('.,;?!-\\'') and sentence[i-1] != ' ':\n",
    "                new_sentence += ' ' + char\n",
    "                \n",
    "                if char in set('-\\''):\n",
    "                    new_sentence += ' '\n",
    "            else:\n",
    "                new_sentence += char\n",
    "                \n",
    "    # We convert uppercases to lowercases\n",
    "    new_sentence = new_sentence.lower()\n",
    "    # We split wordwise\n",
    "    new_sentence = new_sentence.split()\n",
    "    # Remove punctuation\n",
    "    new_sentence = [word for word in new_sentence if word.isalpha()]\n",
    "    \n",
    "    return new_sentence"
   ]
  },
  {
   "cell_type": "code",
   "execution_count": 4,
   "id": "b1ed806a-aef7-4766-9774-2577fb9b2e8b",
   "metadata": {
    "execution": {
     "iopub.execute_input": "2022-05-04T21:30:19.910513Z",
     "iopub.status.busy": "2022-05-04T21:30:19.909813Z",
     "iopub.status.idle": "2022-05-04T21:30:22.797973Z",
     "shell.execute_reply": "2022-05-04T21:30:22.797400Z",
     "shell.execute_reply.started": "2022-05-04T21:30:19.910482Z"
    },
    "tags": []
   },
   "outputs": [],
   "source": [
    "# Clean the data\n",
    "source = [clean_and_split(sentence) for sentence in source]\n",
    "target = [clean_and_split(sentence) for sentence in target]"
   ]
  },
  {
   "cell_type": "code",
   "execution_count": 5,
   "id": "5e2458b6-303b-4e2e-acb1-da15eecbca4d",
   "metadata": {
    "execution": {
     "iopub.execute_input": "2022-05-04T21:30:22.800036Z",
     "iopub.status.busy": "2022-05-04T21:30:22.799275Z",
     "iopub.status.idle": "2022-05-04T21:30:22.804681Z",
     "shell.execute_reply": "2022-05-04T21:30:22.804140Z",
     "shell.execute_reply.started": "2022-05-04T21:30:22.800008Z"
    },
    "tags": []
   },
   "outputs": [
    {
     "name": "stdout",
     "output_type": "stream",
     "text": [
      "English sentence:\n",
      "['hey', 'what', 'are', 'you', 'guys', 'talking', 'about']\n",
      "\n",
      "French sentence:\n",
      "['eh', 'les', 'gars', 'de', 'quoi', 'parlez', 'vous']\n"
     ]
    }
   ],
   "source": [
    "# Test\n",
    "print(\"English sentence:\")\n",
    "print(source[99000])\n",
    "print(\"\\nFrench sentence:\")\n",
    "print(target[99000])"
   ]
  },
  {
   "cell_type": "markdown",
   "id": "c5fbc0a7-e20a-460f-a256-748ae1a82529",
   "metadata": {},
   "source": [
    "## 2. Tokenization"
   ]
  },
  {
   "cell_type": "markdown",
   "id": "374649c5-fbeb-40ca-89d2-61609c826602",
   "metadata": {},
   "source": [
    "### 2.1. Map words to integers"
   ]
  },
  {
   "cell_type": "code",
   "execution_count": 6,
   "id": "438c5366-e8a2-45a5-9d26-c39cb382a3bf",
   "metadata": {
    "execution": {
     "iopub.execute_input": "2022-05-04T21:30:22.806068Z",
     "iopub.status.busy": "2022-05-04T21:30:22.805483Z",
     "iopub.status.idle": "2022-05-04T21:30:22.814387Z",
     "shell.execute_reply": "2022-05-04T21:30:22.813864Z",
     "shell.execute_reply.started": "2022-05-04T21:30:22.806043Z"
    },
    "tags": []
   },
   "outputs": [],
   "source": [
    "# Class for building a vocabulary for a language\n",
    "class Vocabulary:\n",
    "    def __init__(self, sentences):\n",
    "        # We build the vocabulary with words that appear at least twice in the data\n",
    "        self.max_length = 0 # Length of the largest sentence\n",
    "        self.tokens = ['<pad>', '<bos>', '<eos>', '<unk>']\n",
    "        \n",
    "        words = [] # Temporary list of all words\n",
    "        \n",
    "        for sentence in sentences:\n",
    "            if len(sentence) > self.max_length:\n",
    "                self.max_length = len(sentence)\n",
    "            for word in sentence:\n",
    "                if word not in words:\n",
    "                    words.append(word)\n",
    "                elif word not in self.tokens:\n",
    "                    self.tokens.append(word)\n",
    "        \n",
    "        self.max_length += 2 # Account for <bos> and <eos>\n",
    "        self.vocab = {}\n",
    "        for index, token in enumerate(self.tokens):\n",
    "            self.vocab[token] = index\n",
    "            \n",
    "    def len(self):\n",
    "        return len(self.tokens)\n",
    "            \n",
    "    def get_word_ID(self, word):\n",
    "        if word in self.vocab:\n",
    "            return self.vocab[word]\n",
    "        return self.vocab['<unk>']\n",
    "    \n",
    "    def get_IDs(self, sentence):\n",
    "        IDs = [self.get_word_ID('<bos>')]\n",
    "        for word in sentence:\n",
    "            IDs.append(self.get_word_ID(word))\n",
    "            \n",
    "        IDs.append(self.get_word_ID('<eos>'))\n",
    "        return IDs\n",
    "    \n",
    "    def get_sentence(self, IDs):\n",
    "        sentence = []\n",
    "        for ID in IDs:\n",
    "            # Discard <pad>, <bos> and <eos>\n",
    "            if ID > 2:\n",
    "                sentence.append(self.tokens[ID])\n",
    "        return sentence\n",
    "    \n",
    "    def add_padding(self, sentence):\n",
    "        pad = [self.get_word_ID('<pad>')] * (self.max_length - len(sentence))\n",
    "        return sentence + pad"
   ]
  },
  {
   "cell_type": "code",
   "execution_count": 7,
   "id": "ca7e2bad-42c4-4317-99f7-b90a94f0fedb",
   "metadata": {
    "execution": {
     "iopub.execute_input": "2022-05-04T21:30:22.816332Z",
     "iopub.status.busy": "2022-05-04T21:30:22.815633Z",
     "iopub.status.idle": "2022-05-04T21:30:55.417363Z",
     "shell.execute_reply": "2022-05-04T21:30:55.416698Z",
     "shell.execute_reply.started": "2022-05-04T21:30:22.816305Z"
    },
    "tags": []
   },
   "outputs": [],
   "source": [
    "# Create source and target vocabularies\n",
    "source_vocab = Vocabulary(source)\n",
    "target_vocab = Vocabulary(target)"
   ]
  },
  {
   "cell_type": "code",
   "execution_count": 8,
   "id": "3bb21926-ba00-48f4-a7f0-83a975b83452",
   "metadata": {
    "execution": {
     "iopub.execute_input": "2022-05-04T21:30:55.418437Z",
     "iopub.status.busy": "2022-05-04T21:30:55.418259Z",
     "iopub.status.idle": "2022-05-04T21:30:56.260243Z",
     "shell.execute_reply": "2022-05-04T21:30:56.259414Z",
     "shell.execute_reply.started": "2022-05-04T21:30:55.418415Z"
    },
    "tags": []
   },
   "outputs": [],
   "source": [
    "# Map source and target texts to integers\n",
    "source_tokens = [source_vocab.get_IDs(sentence) for sentence in source]\n",
    "target_tokens = [target_vocab.get_IDs(sentence) for sentence in target]"
   ]
  },
  {
   "cell_type": "code",
   "execution_count": 9,
   "id": "74e2cf7f-7028-4082-bbfd-cbea157b1f7d",
   "metadata": {
    "execution": {
     "iopub.execute_input": "2022-05-04T21:30:56.262283Z",
     "iopub.status.busy": "2022-05-04T21:30:56.262027Z",
     "iopub.status.idle": "2022-05-04T21:30:56.266361Z",
     "shell.execute_reply": "2022-05-04T21:30:56.265728Z",
     "shell.execute_reply.started": "2022-05-04T21:30:56.262250Z"
    },
    "tags": []
   },
   "outputs": [
    {
     "name": "stdout",
     "output_type": "stream",
     "text": [
      "English sentence:\n",
      "[1, 1017, 89, 188, 40, 1020, 593, 943, 2]\n",
      "\n",
      "French sentence:\n",
      "[1, 2087, 106, 2189, 67, 97, 1827, 50, 2]\n"
     ]
    }
   ],
   "source": [
    "# Test\n",
    "print(\"English sentence:\")\n",
    "print(source_tokens[99000])\n",
    "print(\"\\nFrench sentence:\")\n",
    "print(target_tokens[99000])"
   ]
  },
  {
   "cell_type": "markdown",
   "id": "7ede6549-e4cd-4b94-89a9-0908fa8e8a12",
   "metadata": {},
   "source": [
    "### 2.2 Explore the data"
   ]
  },
  {
   "cell_type": "code",
   "execution_count": 10,
   "id": "54c6c2fa-b4a2-44c1-b12e-6b0363fa5ff2",
   "metadata": {
    "execution": {
     "iopub.execute_input": "2022-05-04T21:30:56.267398Z",
     "iopub.status.busy": "2022-05-04T21:30:56.267225Z",
     "iopub.status.idle": "2022-05-04T21:30:56.413290Z",
     "shell.execute_reply": "2022-05-04T21:30:56.412572Z",
     "shell.execute_reply.started": "2022-05-04T21:30:56.267375Z"
    }
   },
   "outputs": [
    {
     "name": "stdout",
     "output_type": "stream",
     "text": [
      "Some dataset statistics (after tokenization):\n",
      "\n",
      "Number of sentences: 100000\n",
      "\n",
      "Total number of words (source): 749095\n",
      "Total number of words (target): 807653\n",
      "\n",
      "Average number of words per sentence (source): 7.49095\n",
      "Average number of words per sentence (target): 8.07653\n",
      "\n",
      "Maximum length of a sentence (source): 14\n",
      "Maximum length of a sentence (target): 20\n",
      "\n",
      "Number of unique words (source): 7218\n",
      "Number of unique words (target): 10243\n"
     ]
    }
   ],
   "source": [
    "import numpy as np\n",
    "\n",
    "# Print some stats about the dataset\n",
    "print(\"Some dataset statistics (after tokenization):\\n\")\n",
    "\n",
    "print(\"Number of sentences: {}\\n\".format(len(source_tokens)))\n",
    "\n",
    "source_word_count = [len(sentence) for sentence in source_tokens]\n",
    "target_word_count = [len(sentence) for sentence in target_tokens]\n",
    "\n",
    "print(\"Total number of words (source): {}\".format(np.sum(source_word_count)))\n",
    "print(\"Total number of words (target): {}\\n\".format(np.sum(target_word_count)))\n",
    "\n",
    "print(\"Average number of words per sentence (source): {}\".format(np.mean(source_word_count)))\n",
    "print(\"Average number of words per sentence (target): {}\\n\".format(np.mean(target_word_count)))\n",
    "\n",
    "print(\"Maximum length of a sentence (source): {}\".format(source_vocab.max_length))\n",
    "print(\"Maximum length of a sentence (target): {}\\n\".format(target_vocab.max_length))\n",
    "            \n",
    "print(\"Number of unique words (source): {}\".format(source_vocab.len()))\n",
    "print(\"Number of unique words (target): {}\".format(target_vocab.len()))"
   ]
  },
  {
   "cell_type": "markdown",
   "id": "a663ef7e-3846-4934-88bf-ae09fc8b0a62",
   "metadata": {},
   "source": [
    "### 2.3. Padding"
   ]
  },
  {
   "cell_type": "code",
   "execution_count": 11,
   "id": "219abf1a-4cf9-4188-8b74-15402a26e298",
   "metadata": {
    "execution": {
     "iopub.execute_input": "2022-05-04T21:30:56.414738Z",
     "iopub.status.busy": "2022-05-04T21:30:56.414536Z",
     "iopub.status.idle": "2022-05-04T21:30:56.956852Z",
     "shell.execute_reply": "2022-05-04T21:30:56.955957Z",
     "shell.execute_reply.started": "2022-05-04T21:30:56.414712Z"
    },
    "tags": []
   },
   "outputs": [],
   "source": [
    "# Add padding\n",
    "source_tokens = [source_vocab.add_padding(sentence) for sentence in source_tokens]\n",
    "target_tokens = [target_vocab.add_padding(sentence) for sentence in target_tokens]"
   ]
  },
  {
   "cell_type": "code",
   "execution_count": 12,
   "id": "0cab6dc6-310c-457f-8595-e2372a2f8431",
   "metadata": {
    "execution": {
     "iopub.execute_input": "2022-05-04T21:30:56.958188Z",
     "iopub.status.busy": "2022-05-04T21:30:56.957994Z",
     "iopub.status.idle": "2022-05-04T21:30:56.962982Z",
     "shell.execute_reply": "2022-05-04T21:30:56.962411Z",
     "shell.execute_reply.started": "2022-05-04T21:30:56.958165Z"
    },
    "tags": []
   },
   "outputs": [
    {
     "name": "stdout",
     "output_type": "stream",
     "text": [
      "English sentence:\n",
      "[1, 1017, 89, 188, 40, 1020, 593, 943, 2, 0, 0, 0, 0, 0]\n",
      "\n",
      "French sentence:\n",
      "[1, 2087, 106, 2189, 67, 97, 1827, 50, 2, 0, 0, 0, 0, 0, 0, 0, 0, 0, 0, 0]\n"
     ]
    }
   ],
   "source": [
    "# Test\n",
    "print(\"English sentence:\")\n",
    "print(source_tokens[99000])\n",
    "print(\"\\nFrench sentence:\")\n",
    "print(target_tokens[99000])"
   ]
  },
  {
   "cell_type": "markdown",
   "id": "8ac98a9b-71e8-4132-9920-f97619b9910a",
   "metadata": {},
   "source": [
    "## 3. Split Data Into Training and Test Sets"
   ]
  },
  {
   "cell_type": "markdown",
   "id": "d27a55ee-6572-4327-afb4-0e6e8b452a9c",
   "metadata": {},
   "source": [
    "### 3.1. Build sets"
   ]
  },
  {
   "cell_type": "code",
   "execution_count": 13,
   "id": "2452367b-8919-4544-a88d-bc8d78c55c29",
   "metadata": {
    "execution": {
     "iopub.execute_input": "2022-05-04T21:30:56.965218Z",
     "iopub.status.busy": "2022-05-04T21:30:56.965035Z",
     "iopub.status.idle": "2022-05-04T21:30:58.000671Z",
     "shell.execute_reply": "2022-05-04T21:30:57.999813Z",
     "shell.execute_reply.started": "2022-05-04T21:30:56.965195Z"
    },
    "tags": []
   },
   "outputs": [],
   "source": [
    "import torch\n",
    "import torch.utils.data as data\n",
    "\n",
    "# Build train and test sets from source and target tokens\n",
    "def build_datasets(source, target):\n",
    "    src = torch.tensor(source)\n",
    "    tgt = torch.tensor(target)\n",
    "\n",
    "    # Build full dataset\n",
    "    dataset = data.TensorDataset(*(src, tgt))\n",
    "    \n",
    "    # Split into train and test sets\n",
    "    size = len(dataset)\n",
    "    train_size = int(size * 0.8)\n",
    "    test_size = size - train_size\n",
    "    \n",
    "    return data.random_split(dataset, [train_size, test_size])"
   ]
  },
  {
   "cell_type": "code",
   "execution_count": 14,
   "id": "5f696e99-8372-4edc-98b5-ff894fdba559",
   "metadata": {
    "execution": {
     "iopub.execute_input": "2022-05-04T21:30:58.002296Z",
     "iopub.status.busy": "2022-05-04T21:30:58.002101Z",
     "iopub.status.idle": "2022-05-04T21:30:58.281438Z",
     "shell.execute_reply": "2022-05-04T21:30:58.280765Z",
     "shell.execute_reply.started": "2022-05-04T21:30:58.002272Z"
    },
    "tags": []
   },
   "outputs": [],
   "source": [
    "# Build train and test sets\n",
    "trainset, testset = build_datasets(source_tokens, target_tokens)"
   ]
  },
  {
   "cell_type": "markdown",
   "id": "f3da3da4-2f7e-41ce-af84-78ca6473fa88",
   "metadata": {},
   "source": [
    "## 4. Encoder-Decoder Architecture"
   ]
  },
  {
   "cell_type": "markdown",
   "id": "51b4e396-e024-46fe-ad2c-093bb312331b",
   "metadata": {},
   "source": [
    "### 4.1. Encoder"
   ]
  },
  {
   "cell_type": "code",
   "execution_count": 15,
   "id": "743ea9f5-341c-4675-bcfd-aeec2690d729",
   "metadata": {
    "execution": {
     "iopub.execute_input": "2022-05-04T21:30:58.282572Z",
     "iopub.status.busy": "2022-05-04T21:30:58.282382Z",
     "iopub.status.idle": "2022-05-04T21:30:58.291165Z",
     "shell.execute_reply": "2022-05-04T21:30:58.290537Z",
     "shell.execute_reply.started": "2022-05-04T21:30:58.282549Z"
    },
    "tags": []
   },
   "outputs": [],
   "source": [
    "import torch.nn as nn\n",
    "\n",
    "class Encoder(nn.Module):\n",
    "    def __init__(self, input_size, embed_size, hidden_size, num_layers):\n",
    "        super().__init__()\n",
    "        \n",
    "        # Embedding layer\n",
    "        self.embedding = nn.Embedding(input_size, embed_size)\n",
    "        # LSTM layer\n",
    "        self.rnn = nn.LSTM(embed_size, hidden_size, num_layers, dropout=0)\n",
    "        \n",
    "    def forward(self, x):\n",
    "        # Shape of x: (batch_size, seq_length)\n",
    "        x = self.embedding(x.permute(1, 0))\n",
    "        # Shape of x: (seq_length, batch_size, embed_size)\n",
    "        output, (hidden, cell) = self.rnn(x)\n",
    "        # Shape of output: (seq_length, batch_size, hidden_size)\n",
    "        # Shape of hidden: (num_layers, batch_size, hidden_size)\n",
    "        # Shape of cell:   (num_layers, batch_size, hidden_size)\n",
    "        \n",
    "        return hidden, cell"
   ]
  },
  {
   "cell_type": "markdown",
   "id": "bcb209a8-cf8f-49ed-9cce-07401f8c21fa",
   "metadata": {},
   "source": [
    "### 4.2. Decoder"
   ]
  },
  {
   "cell_type": "code",
   "execution_count": 16,
   "id": "fe323c7c-eb99-485d-8b8a-f05a9e11f4b1",
   "metadata": {
    "execution": {
     "iopub.execute_input": "2022-05-04T21:30:58.292524Z",
     "iopub.status.busy": "2022-05-04T21:30:58.292324Z",
     "iopub.status.idle": "2022-05-04T21:30:58.299908Z",
     "shell.execute_reply": "2022-05-04T21:30:58.299255Z",
     "shell.execute_reply.started": "2022-05-04T21:30:58.292502Z"
    },
    "tags": []
   },
   "outputs": [],
   "source": [
    "class Decoder(nn.Module):\n",
    "    def __init__(self, output_size, embed_size, hidden_size, num_layers):\n",
    "        super().__init__()\n",
    "        \n",
    "        # Emebedding layer\n",
    "        self.embedding = nn.Embedding(output_size, embed_size)\n",
    "        # LSTM layer\n",
    "        self.rnn = nn.LSTM(embed_size, hidden_size, num_layers, dropout=0)\n",
    "        # Linear layer for prediction\n",
    "        self.fc = nn.Linear(hidden_size, output_size)\n",
    "         \n",
    "    def forward(self, x, hidden, cell):\n",
    "        # Shape of x: (batch_size)\n",
    "        # Shape of hidden: (num_layers, batch_size, hidden_size)\n",
    "        # Shape of cell:   (num_layers, batch_size, hidden_size)\n",
    "        x = x.unsqueeze(0)\n",
    "        # Shape of x: (1, batch_size)\n",
    "        x = self.embedding(x)\n",
    "        # Shape of x: (1, batch_size, embed_size)\n",
    "        output, (hidden, cell) = self.rnn(x, (hidden, cell))\n",
    "        # Shape of output: (1, batch_size, hidden_size)\n",
    "        # Shape of hidden: (num_layers, batch_size, hidden_size)\n",
    "        # Shape of cell:   (num_layers, batch_size, hidden_size)\n",
    "        output = output.squeeze(0)\n",
    "        # Shape of output: (batch_size, hidden_size)\n",
    "        output = self.fc(output)\n",
    "        # Shape of output: (batch_size, output_size)\n",
    "        \n",
    "        return output, (hidden, cell)"
   ]
  },
  {
   "cell_type": "markdown",
   "id": "d14fb7dc-2f24-4c65-92b2-353a07f7e0e8",
   "metadata": {},
   "source": [
    "### 4.3. Encoder-Decoder"
   ]
  },
  {
   "cell_type": "code",
   "execution_count": 17,
   "id": "8bac6edd-a01f-4526-8ad6-0d19540dc061",
   "metadata": {
    "execution": {
     "iopub.execute_input": "2022-05-04T21:30:58.301058Z",
     "iopub.status.busy": "2022-05-04T21:30:58.300869Z",
     "iopub.status.idle": "2022-05-04T21:30:58.310508Z",
     "shell.execute_reply": "2022-05-04T21:30:58.309707Z",
     "shell.execute_reply.started": "2022-05-04T21:30:58.301036Z"
    },
    "tags": []
   },
   "outputs": [],
   "source": [
    "import random\n",
    "\n",
    "class EncoderDecoder(nn.Module):\n",
    "    def __init__(self, input_size, output_size, embed_size, hidden_size, num_layers):\n",
    "        super().__init__()\n",
    "        \n",
    "        self.output_size = output_size # Needed in forward()\n",
    "        self.encoder = Encoder(input_size, embed_size, hidden_size, num_layers)\n",
    "        self.decoder = Decoder(output_size, embed_size, hidden_size, num_layers)\n",
    "\n",
    "    def forward(self, source, target, teacher_forcing=0):\n",
    "        # Shape of source: (batch_size, source_length)\n",
    "        # Shape of target: (batch_size, target_length)\n",
    "        # teacher_forcing: the probability to use teacher forcing\n",
    "        \n",
    "        batch_size = target.shape[0]\n",
    "        target_length = target.shape[1]\n",
    "        \n",
    "        # Initialize predictions tensor\n",
    "        predictions = torch.zeros(target_length, batch_size, self.output_size)\n",
    "        # Run the encoder\n",
    "        hidden, cell = self.encoder(source)\n",
    "        # First input of the decoder is the first token of each sentence in the batch\n",
    "        decoder_input = target[:,0]\n",
    "        \n",
    "        for i in range(1, target_length):\n",
    "            # Decode current token\n",
    "            output, (hidden, cell) = self.decoder(decoder_input, hidden, cell)\n",
    "            # Save predictions\n",
    "            predictions[i] = output\n",
    "            \n",
    "            # Get next decoder_input\n",
    "            if random.random() < teacher_forcing:\n",
    "                decoder_input = target[:,i]\n",
    "            else:\n",
    "                decoder_input = output.argmax(1)\n",
    "        \n",
    "        return predictions"
   ]
  },
  {
   "cell_type": "markdown",
   "id": "0f95d2db-0936-49ef-982c-ab9e5cb32fd1",
   "metadata": {},
   "source": [
    "## 5. Training The Model"
   ]
  },
  {
   "cell_type": "code",
   "execution_count": 18,
   "id": "b2836db0-956a-499a-b4ac-4deae99be399",
   "metadata": {
    "execution": {
     "iopub.execute_input": "2022-05-04T21:30:58.312151Z",
     "iopub.status.busy": "2022-05-04T21:30:58.311689Z",
     "iopub.status.idle": "2022-05-04T21:30:58.341699Z",
     "shell.execute_reply": "2022-05-04T21:30:58.340832Z",
     "shell.execute_reply.started": "2022-05-04T21:30:58.312118Z"
    },
    "tags": []
   },
   "outputs": [
    {
     "name": "stdout",
     "output_type": "stream",
     "text": [
      "cuda\n"
     ]
    }
   ],
   "source": [
    "if torch.cuda.is_available():\n",
    "    device = 'cuda'\n",
    "else:\n",
    "    device = 'cpu'\n",
    "\n",
    "print(device)"
   ]
  },
  {
   "cell_type": "markdown",
   "id": "dc8d25c9-e56d-4737-9fbe-a1352a5c3411",
   "metadata": {},
   "source": [
    "### 5.1. Training and evaluation functions"
   ]
  },
  {
   "cell_type": "code",
   "execution_count": 19,
   "id": "48dbb135-9bd7-4836-9402-758e9dab7c89",
   "metadata": {
    "execution": {
     "iopub.execute_input": "2022-05-04T21:30:58.342940Z",
     "iopub.status.busy": "2022-05-04T21:30:58.342760Z",
     "iopub.status.idle": "2022-05-04T21:30:58.348358Z",
     "shell.execute_reply": "2022-05-04T21:30:58.347656Z",
     "shell.execute_reply.started": "2022-05-04T21:30:58.342916Z"
    },
    "tags": []
   },
   "outputs": [],
   "source": [
    "# Function for training the model for one epoch\n",
    "def train(network, trainloader, optimizer, criterion, device):\n",
    "    epoch_loss = 0\n",
    "    \n",
    "    for source, target in trainloader:        \n",
    "        source = source.to(device)\n",
    "        target = target.to(device)\n",
    "        \n",
    "        predictions = network(source, target, teacher_forcing=0.5).to(device)\n",
    "        predictions = predictions.permute(1, 2, 0)\n",
    "        \n",
    "        loss = criterion(predictions, target)\n",
    "        epoch_loss += loss.item()\n",
    "        \n",
    "        optimizer.zero_grad()\n",
    "        loss.backward()\n",
    "        optimizer.step()\n",
    "    \n",
    "    return epoch_loss / len(trainloader)"
   ]
  },
  {
   "cell_type": "code",
   "execution_count": 20,
   "id": "83a2574e-4a4e-40e0-8b6a-91bd2f215156",
   "metadata": {
    "execution": {
     "iopub.execute_input": "2022-05-04T21:30:58.349588Z",
     "iopub.status.busy": "2022-05-04T21:30:58.349193Z",
     "iopub.status.idle": "2022-05-04T21:30:58.458452Z",
     "shell.execute_reply": "2022-05-04T21:30:58.457676Z",
     "shell.execute_reply.started": "2022-05-04T21:30:58.349563Z"
    }
   },
   "outputs": [],
   "source": [
    "from torchtext.data.metrics import bleu_score\n",
    "\n",
    "# Function to compute the BLEU score of one batch in the test set\n",
    "def get_bleu_score(batch_target, predictions, target_vocab):\n",
    "    score = 0\n",
    "    for i in range(len(batch_target)):\n",
    "        trg = [[target_vocab.get_sentence(batch_target[i])]]\n",
    "        pred = predictions[i].argmax(0)\n",
    "        pred = [target_vocab.get_sentence(pred)]\n",
    "        \n",
    "        score += bleu_score(pred, trg, max_n=1, weights=[1])\n",
    "        \n",
    "    return score / len(batch_target)"
   ]
  },
  {
   "cell_type": "code",
   "execution_count": 21,
   "id": "d353e374-9b67-45a2-ade9-4fc24d073ce1",
   "metadata": {
    "execution": {
     "iopub.execute_input": "2022-05-04T21:30:58.459587Z",
     "iopub.status.busy": "2022-05-04T21:30:58.459417Z",
     "iopub.status.idle": "2022-05-04T21:30:58.492435Z",
     "shell.execute_reply": "2022-05-04T21:30:58.491696Z",
     "shell.execute_reply.started": "2022-05-04T21:30:58.459564Z"
    }
   },
   "outputs": [],
   "source": [
    "# Function for evaluating the model on the test set\n",
    "def evaluate(network, testloader, criterion, target_vocab, device):\n",
    "    epoch_loss = 0\n",
    "    score = 0\n",
    "    \n",
    "    with torch.no_grad():\n",
    "        for src, trg in testloader:            \n",
    "            src = src.to(device)\n",
    "            trg = trg.to(device)\n",
    "\n",
    "            pred = network(src, trg).to(device)\n",
    "            pred = pred.permute(1, 2, 0)\n",
    "\n",
    "            loss = criterion(pred, trg)\n",
    "            epoch_loss += loss.item()\n",
    "            \n",
    "            score += get_bleu_score(trg, pred, target_vocab)\n",
    "            \n",
    "    epoch_loss = epoch_loss / len(testloader)\n",
    "    score = score / len(testloader)\n",
    "            \n",
    "    return epoch_loss, score"
   ]
  },
  {
   "cell_type": "markdown",
   "id": "0d124a42-77a3-41a2-98b8-470b9821fa96",
   "metadata": {},
   "source": [
    "### 5.2. Hyperparameters"
   ]
  },
  {
   "cell_type": "code",
   "execution_count": 22,
   "id": "ee38a4ef-193b-459f-b69d-85ce1a1d1a91",
   "metadata": {
    "execution": {
     "iopub.execute_input": "2022-05-04T21:30:58.493580Z",
     "iopub.status.busy": "2022-05-04T21:30:58.493383Z",
     "iopub.status.idle": "2022-05-04T21:31:01.156343Z",
     "shell.execute_reply": "2022-05-04T21:31:01.155589Z",
     "shell.execute_reply.started": "2022-05-04T21:30:58.493539Z"
    },
    "tags": []
   },
   "outputs": [],
   "source": [
    "import torch.optim as optim\n",
    "\n",
    "# Hyperparameters\n",
    "input_size = source_vocab.len()\n",
    "output_size = target_vocab.len()\n",
    "embed_size = 128\n",
    "hidden_size = 256\n",
    "num_layers = 2\n",
    "learning_rate = 0.005\n",
    "batch_size = 512\n",
    "\n",
    "# Build train and test loaders\n",
    "trainloader = data.DataLoader(trainset, batch_size=batch_size, shuffle=True, num_workers=2)\n",
    "testloader = data.DataLoader(testset, batch_size=batch_size, shuffle=False, num_workers=2)\n",
    "\n",
    "network = EncoderDecoder(input_size, output_size, embed_size, hidden_size, num_layers)\n",
    "network = network.to(device)\n",
    "optimizer = optim.Adam(network.parameters(), lr=learning_rate)\n",
    "criterion = nn.CrossEntropyLoss()"
   ]
  },
  {
   "cell_type": "markdown",
   "id": "17e6df97-d7ca-4818-8a39-27241de99870",
   "metadata": {},
   "source": [
    "### 5.3. Training the model"
   ]
  },
  {
   "cell_type": "code",
   "execution_count": 23,
   "id": "df4e1e60-f7c6-46bf-bb4d-0c3f99cd7e30",
   "metadata": {
    "execution": {
     "iopub.execute_input": "2022-05-04T21:31:01.161019Z",
     "iopub.status.busy": "2022-05-04T21:31:01.160800Z",
     "iopub.status.idle": "2022-05-04T23:45:08.932584Z",
     "shell.execute_reply": "2022-05-04T23:45:08.931708Z",
     "shell.execute_reply.started": "2022-05-04T21:31:01.160994Z"
    },
    "tags": []
   },
   "outputs": [
    {
     "name": "stdout",
     "output_type": "stream",
     "text": [
      "Epoch  1  time:  0:08:59\n",
      "Training loss:  2.5327334601408356\n",
      "Test loss:  2.458177524805069\n",
      "Average BLEU score:  0.17566993727790242\n",
      "New best model\n",
      "\n",
      "Epoch  2  time:  0:08:57\n",
      "Training loss:  2.034841964199285\n",
      "Test loss:  2.1463792741298677\n",
      "Average BLEU score:  0.27207599470593224\n",
      "New best model\n",
      "\n",
      "Epoch  3  time:  0:08:58\n",
      "Training loss:  1.8155717804173754\n",
      "Test loss:  2.0006722152233123\n",
      "Average BLEU score:  0.33701721256064904\n",
      "New best model\n",
      "\n",
      "Epoch  4  time:  0:08:58\n",
      "Training loss:  1.6425783459547978\n",
      "Test loss:  1.8782992094755173\n",
      "Average BLEU score:  0.38040074286715725\n",
      "New best model\n",
      "\n",
      "Epoch  5  time:  0:08:54\n",
      "Training loss:  1.5085042130415607\n",
      "Test loss:  1.8256044507026672\n",
      "Average BLEU score:  0.4101592735511641\n",
      "New best model\n",
      "\n",
      "Epoch  6  time:  0:08:53\n",
      "Training loss:  1.410261335646271\n",
      "Test loss:  1.7730412811040879\n",
      "Average BLEU score:  0.4418725319623601\n",
      "New best model\n",
      "\n",
      "Epoch  7  time:  0:08:51\n",
      "Training loss:  1.29894597970756\n",
      "Test loss:  1.6890166729688645\n",
      "Average BLEU score:  0.47477179252101553\n",
      "New best model\n",
      "\n",
      "Epoch  8  time:  0:08:57\n",
      "Training loss:  1.1999114561992086\n",
      "Test loss:  1.6724351316690445\n",
      "Average BLEU score:  0.49683316852694254\n",
      "New best model\n",
      "\n",
      "Epoch  9  time:  0:08:53\n",
      "Training loss:  1.1402034812672124\n",
      "Test loss:  1.6470454275608062\n",
      "Average BLEU score:  0.5142175757866978\n",
      "New best model\n",
      "\n",
      "Epoch  10  time:  0:08:58\n",
      "Training loss:  1.067212209580051\n",
      "Test loss:  1.6363208264112472\n",
      "Average BLEU score:  0.5260102775940074\n",
      "New best model\n",
      "\n",
      "Epoch  11  time:  0:08:52\n",
      "Training loss:  1.0237711094746924\n",
      "Test loss:  1.6280101239681244\n",
      "Average BLEU score:  0.5350893964872228\n",
      "New best model\n",
      "\n",
      "Epoch  12  time:  0:08:56\n",
      "Training loss:  0.9806444887902327\n",
      "Test loss:  1.6194963932037354\n",
      "Average BLEU score:  0.5392622191508394\n",
      "New best model\n",
      "\n",
      "Epoch  13  time:  0:08:55\n",
      "Training loss:  0.9297604446957826\n",
      "Test loss:  1.6264484882354737\n",
      "Average BLEU score:  0.5443695532526271\n",
      "Not the best model\n",
      "\n",
      "Epoch  14  time:  0:08:53\n",
      "Training loss:  0.9083339340367894\n",
      "Test loss:  1.6039429306983948\n",
      "Average BLEU score:  0.5447753179181092\n",
      "New best model\n",
      "\n",
      "Epoch  15  time:  0:08:56\n",
      "Training loss:  0.8592103271727349\n",
      "Test loss:  1.6428740113973617\n",
      "Average BLEU score:  0.5488641818373166\n",
      "Not the best model\n",
      "\n",
      "Total time:  2:14:07\n"
     ]
    }
   ],
   "source": [
    "import time\n",
    "from datetime import timedelta\n",
    "\n",
    "n_epochs = 15\n",
    "start_time = time.time()\n",
    "\n",
    "train_loss = []\n",
    "test_loss = []\n",
    "BLEU_score = []\n",
    "best_test_loss = np.inf\n",
    "\n",
    "for epoch in range(n_epochs):\n",
    "    epoch_start_time = time.time()\n",
    "    \n",
    "    epoch_train_loss = train(network, trainloader, optimizer, criterion, device)\n",
    "    epoch_test_loss, epoch_score = evaluate(network, testloader, criterion, target_vocab, device)\n",
    "    \n",
    "    train_loss.append(epoch_train_loss)\n",
    "    test_loss.append(epoch_test_loss)\n",
    "    BLEU_score.append(epoch_score)\n",
    "    \n",
    "    epoch_time = timedelta(seconds=int(time.time() - epoch_start_time))\n",
    "    \n",
    "    print(\"Epoch \", epoch+1, \" time: \", epoch_time)\n",
    "    print(\"Training loss: \", epoch_train_loss)\n",
    "    print(\"Test loss: \", epoch_test_loss)\n",
    "    print(\"Average BLEU score: \", epoch_score)\n",
    "    \n",
    "    if epoch_test_loss < best_test_loss:\n",
    "        best_test_loss = epoch_test_loss\n",
    "        torch.save(network.state_dict(), \"model\" + str(epoch+1) + \".pt\")\n",
    "        print(\"New best model\\n\")\n",
    "    else:\n",
    "        print(\"Not the best model\\n\")\n",
    "    \n",
    "total_time = timedelta(seconds=int(time.time() - start_time))\n",
    "print(\"Total time: \", total_time)"
   ]
  },
  {
   "cell_type": "markdown",
   "id": "1247ff53-f167-46af-8757-a37d931f43f1",
   "metadata": {},
   "source": [
    "### 5.4. Plot losses and scores"
   ]
  },
  {
   "cell_type": "code",
   "execution_count": 24,
   "id": "72f69486-8f15-4c24-b968-6a09a55b1e8b",
   "metadata": {
    "execution": {
     "iopub.execute_input": "2022-05-04T23:45:08.934595Z",
     "iopub.status.busy": "2022-05-04T23:45:08.934353Z",
     "iopub.status.idle": "2022-05-04T23:45:10.297611Z",
     "shell.execute_reply": "2022-05-04T23:45:10.296969Z",
     "shell.execute_reply.started": "2022-05-04T23:45:08.934560Z"
    }
   },
   "outputs": [
    {
     "data": {
      "image/png": "[encoded data removed]",
      "text/plain": [
       "<Figure size 432x288 with 1 Axes>"
      ]
     },
     "metadata": {
      "needs_background": "light"
     },
     "output_type": "display_data"
    }
   ],
   "source": [
    "import matplotlib.pyplot as plt\n",
    "\n",
    "epochs = list(range(1, n_epochs+1))\n",
    "\n",
    "# Plot losses\n",
    "plt.plot(epochs, train_loss, label='Training loss')\n",
    "plt.plot(epochs, test_loss, label='Test loss')\n",
    "plt.xlabel('Epochs')\n",
    "plt.ylabel('Loss')\n",
    "plt.legend()\n",
    "plt.grid()\n",
    "plt.show\n",
    "plt.savefig('loss.png')"
   ]
  },
  {
   "cell_type": "code",
   "execution_count": 25,
   "id": "fc724324-5215-4f7d-8c1e-55c387b0a0b8",
   "metadata": {
    "execution": {
     "iopub.execute_input": "2022-05-04T23:45:10.299206Z",
     "iopub.status.busy": "2022-05-04T23:45:10.299034Z",
     "iopub.status.idle": "2022-05-04T23:45:10.475316Z",
     "shell.execute_reply": "2022-05-04T23:45:10.474573Z",
     "shell.execute_reply.started": "2022-05-04T23:45:10.299181Z"
    }
   },
   "outputs": [
    {
     "data": {
      "image/png": "[encoded data removed]",
      "text/plain": [
       "<Figure size 432x288 with 1 Axes>"
      ]
     },
     "metadata": {
      "needs_background": "light"
     },
     "output_type": "display_data"
    }
   ],
   "source": [
    "# Plot scores\n",
    "plt.plot(epochs, BLEU_score)\n",
    "plt.xlabel('Epochs')\n",
    "plt.ylabel('Average BLEU score')\n",
    "plt.grid()\n",
    "plt.show\n",
    "plt.savefig('bleu.png')"
   ]
  },
  {
   "cell_type": "markdown",
   "id": "cd5faa52-15e4-40b6-8ce5-ad340b2d06c3",
   "metadata": {},
   "source": [
    "### 5.5. More training"
   ]
  },
  {
   "cell_type": "code",
   "execution_count": 28,
   "id": "adb16354-d67c-4803-ae69-38bbad472e9d",
   "metadata": {
    "execution": {
     "iopub.execute_input": "2022-05-04T23:51:27.648595Z",
     "iopub.status.busy": "2022-05-04T23:51:27.647978Z",
     "iopub.status.idle": "2022-05-05T00:36:15.625136Z",
     "shell.execute_reply": "2022-05-05T00:36:15.624420Z",
     "shell.execute_reply.started": "2022-05-04T23:51:27.648566Z"
    }
   },
   "outputs": [
    {
     "name": "stdout",
     "output_type": "stream",
     "text": [
      "Epoch  16  time:  0:08:53\n",
      "Training loss:  0.8281680884634613\n",
      "Test loss:  1.6611950755119325\n",
      "Average BLEU score:  0.5487046057280863\n",
      "Not the best model\n",
      "\n",
      "Epoch  17  time:  0:08:59\n",
      "Training loss:  0.8044256078209847\n",
      "Test loss:  1.689393448829651\n",
      "Average BLEU score:  0.5501640391249449\n",
      "Not the best model\n",
      "\n",
      "Epoch  18  time:  0:08:57\n",
      "Training loss:  0.7823599888260957\n",
      "Test loss:  1.7209364771842957\n",
      "Average BLEU score:  0.5503845541715261\n",
      "Not the best model\n",
      "\n",
      "Epoch  19  time:  0:08:59\n",
      "Training loss:  0.7566414445069185\n",
      "Test loss:  1.7220766991376877\n",
      "Average BLEU score:  0.5520779998109211\n",
      "Not the best model\n",
      "\n",
      "Epoch  20  time:  0:08:58\n",
      "Training loss:  0.7391595252000602\n",
      "Test loss:  1.7395107448101044\n",
      "Average BLEU score:  0.547719393920661\n",
      "Not the best model\n",
      "\n",
      "Total time:  0:44:47\n"
     ]
    }
   ],
   "source": [
    "# Train for 5 more epochs\n",
    "\n",
    "more_epochs = 5\n",
    "start_time = time.time()\n",
    "\n",
    "for epoch in range(n_epochs, n_epochs + more_epochs):\n",
    "    epoch_start_time = time.time()\n",
    "    \n",
    "    epoch_train_loss = train(network, trainloader, optimizer, criterion, device)\n",
    "    epoch_test_loss, epoch_score = evaluate(network, testloader, criterion, target_vocab, device)\n",
    "    \n",
    "    train_loss.append(epoch_train_loss)\n",
    "    test_loss.append(epoch_test_loss)\n",
    "    BLEU_score.append(epoch_score)\n",
    "    \n",
    "    epoch_time = timedelta(seconds=int(time.time() - epoch_start_time))\n",
    "    \n",
    "    print(\"Epoch \", epoch+1, \" time: \", epoch_time)\n",
    "    print(\"Training loss: \", epoch_train_loss)\n",
    "    print(\"Test loss: \", epoch_test_loss)\n",
    "    print(\"Average BLEU score: \", epoch_score)\n",
    "    \n",
    "    if epoch_test_loss < best_test_loss:\n",
    "        best_test_loss = epoch_test_loss\n",
    "        torch.save(network.state_dict(), \"model\" + str(epoch+1) + \".pt\")\n",
    "        print(\"New best model\\n\")\n",
    "    else:\n",
    "        print(\"Not the best model\\n\")\n",
    "    \n",
    "total_time = timedelta(seconds=int(time.time() - start_time))\n",
    "print(\"Total time: \", total_time)"
   ]
  },
  {
   "cell_type": "code",
   "execution_count": 30,
   "id": "29ec5538-35b4-4233-b3c3-4b8cf9a498c2",
   "metadata": {
    "execution": {
     "iopub.execute_input": "2022-05-05T01:28:39.255145Z",
     "iopub.status.busy": "2022-05-05T01:28:39.254330Z",
     "iopub.status.idle": "2022-05-05T01:28:39.780206Z",
     "shell.execute_reply": "2022-05-05T01:28:39.779564Z",
     "shell.execute_reply.started": "2022-05-05T01:28:39.255064Z"
    }
   },
   "outputs": [
    {
     "data": {
      "image/png": "[encoded data removed]",
      "text/plain": [
       "<Figure size 432x288 with 1 Axes>"
      ]
     },
     "metadata": {
      "needs_background": "light"
     },
     "output_type": "display_data"
    }
   ],
   "source": [
    "epochs = list(range(1, n_epochs + more_epochs + 1))\n",
    "\n",
    "# Plot losses\n",
    "plt.plot(epochs, train_loss, label='Training loss')\n",
    "plt.plot(epochs, test_loss, label='Test loss')\n",
    "plt.xlabel('Epochs')\n",
    "plt.ylabel('Loss')\n",
    "plt.legend()\n",
    "plt.grid()\n",
    "plt.show\n",
    "plt.savefig('loss.png')"
   ]
  },
  {
   "cell_type": "code",
   "execution_count": 31,
   "id": "a166ee63-6892-4c8d-924f-66e3f8795292",
   "metadata": {
    "execution": {
     "iopub.execute_input": "2022-05-05T01:28:50.482019Z",
     "iopub.status.busy": "2022-05-05T01:28:50.481751Z",
     "iopub.status.idle": "2022-05-05T01:28:50.861586Z",
     "shell.execute_reply": "2022-05-05T01:28:50.860802Z",
     "shell.execute_reply.started": "2022-05-05T01:28:50.481995Z"
    }
   },
   "outputs": [
    {
     "data": {
      "image/png": "[encoded data removed]",
      "text/plain": [
       "<Figure size 432x288 with 1 Axes>"
      ]
     },
     "metadata": {
      "needs_background": "light"
     },
     "output_type": "display_data"
    }
   ],
   "source": [
    "# Plot scores\n",
    "plt.plot(epochs, BLEU_score)\n",
    "plt.xlabel('Epochs')\n",
    "plt.ylabel('Average BLEU score')\n",
    "plt.grid()\n",
    "plt.show\n",
    "plt.savefig('bleu.png')"
   ]
  },
  {
   "cell_type": "markdown",
   "id": "fc467e80-3a28-448d-b10b-2abe99d72dc8",
   "metadata": {},
   "source": [
    "## 6. Translate New Sentences"
   ]
  },
  {
   "cell_type": "markdown",
   "id": "01de95ac-d3b0-4ec9-be2f-b6a96453634d",
   "metadata": {},
   "source": [
    "### 6.1. Load the model"
   ]
  },
  {
   "cell_type": "code",
   "execution_count": 32,
   "id": "958a17df-a935-4c91-9953-ce9ff6ac0112",
   "metadata": {
    "execution": {
     "iopub.execute_input": "2022-05-05T01:29:23.016045Z",
     "iopub.status.busy": "2022-05-05T01:29:23.015733Z",
     "iopub.status.idle": "2022-05-05T01:29:23.121399Z",
     "shell.execute_reply": "2022-05-05T01:29:23.120591Z",
     "shell.execute_reply.started": "2022-05-05T01:29:23.016006Z"
    }
   },
   "outputs": [
    {
     "data": {
      "text/plain": [
       "<All keys matched successfully>"
      ]
     },
     "execution_count": 32,
     "metadata": {},
     "output_type": "execute_result"
    }
   ],
   "source": [
    "model = EncoderDecoder(input_size, output_size, embed_size, hidden_size, num_layers)\n",
    "model.load_state_dict(torch.load('model14.pt'))"
   ]
  },
  {
   "cell_type": "markdown",
   "id": "2eee57bb-d6d5-44f8-a0af-d5017d1a2893",
   "metadata": {},
   "source": [
    "### 6.2. Translation function"
   ]
  },
  {
   "cell_type": "code",
   "execution_count": 33,
   "id": "683192d7-1006-4f7b-b045-96d238522283",
   "metadata": {
    "execution": {
     "iopub.execute_input": "2022-05-05T01:29:31.944956Z",
     "iopub.status.busy": "2022-05-05T01:29:31.944379Z",
     "iopub.status.idle": "2022-05-05T01:29:31.950558Z",
     "shell.execute_reply": "2022-05-05T01:29:31.949874Z",
     "shell.execute_reply.started": "2022-05-05T01:29:31.944918Z"
    }
   },
   "outputs": [],
   "source": [
    "def translate(model, sentence, source_vocab, target_vocab):\n",
    "    model.to('cpu')\n",
    "    \n",
    "    src = clean_and_split(sentence)\n",
    "    src = source_vocab.get_IDs(src)\n",
    "    trg = target_vocab.get_IDs([])\n",
    "    \n",
    "    src = torch.tensor(source_vocab.add_padding(src)).unsqueeze(0)\n",
    "    trg = torch.tensor(target_vocab.add_padding(trg)).unsqueeze(0)\n",
    "    \n",
    "    prediction = model(src, trg)\n",
    "    prediction = prediction.squeeze(1).argmax(1)\n",
    "    prediction = target_vocab.get_sentence(prediction)\n",
    "    \n",
    "    sentence = \"\"\n",
    "    for word in prediction:\n",
    "        sentence += word + ' '\n",
    "        \n",
    "    return sentence"
   ]
  },
  {
   "cell_type": "code",
   "execution_count": 34,
   "id": "06ef3d81-2f64-4559-b802-b83e67a3a08d",
   "metadata": {
    "execution": {
     "iopub.execute_input": "2022-05-05T01:29:42.118388Z",
     "iopub.status.busy": "2022-05-05T01:29:42.118131Z",
     "iopub.status.idle": "2022-05-05T01:29:42.235696Z",
     "shell.execute_reply": "2022-05-05T01:29:42.234952Z",
     "shell.execute_reply.started": "2022-05-05T01:29:42.118355Z"
    }
   },
   "outputs": [
    {
     "name": "stdout",
     "output_type": "stream",
     "text": [
      "il fait chaud aujourd hui \n",
      "le soleil se lève \n",
      "aujourd hui la journée était une long \n",
      "aujourd hui fut un peu chanceux de plus d temps \n"
     ]
    }
   ],
   "source": [
    "s1 = \"It is hot today\"\n",
    "s2 = \"The sun is shining\"\n",
    "s3 = \"Today was a long and tiring day\"\n",
    "s4 = \"Today was a long and tiring day, I need some sleep\"\n",
    "\n",
    "pred1 = translate(model, s1, source_vocab, target_vocab)\n",
    "pred2 = translate(model, s2, source_vocab, target_vocab)\n",
    "pred3 = translate(model, s3, source_vocab, target_vocab)\n",
    "pred4 = translate(model, s4, source_vocab, target_vocab)\n",
    "\n",
    "print(pred1)\n",
    "print(pred2)\n",
    "print(pred3)\n",
    "print(pred4)"
   ]
  }
 ],
 "metadata": {
  "kernelspec": {
   "display_name": "Python 3 (ipykernel)",
   "language": "python",
   "name": "python3"
  },
  "language_info": {
   "codemirror_mode": {
    "name": "ipython",
    "version": 3
   },
   "file_extension": ".py",
   "mimetype": "text/x-python",
   "name": "python",
   "nbconvert_exporter": "python",
   "pygments_lexer": "ipython3",
   "version": "3.7.3"
  }
 },
 "nbformat": 4,
 "nbformat_minor": 5
}
